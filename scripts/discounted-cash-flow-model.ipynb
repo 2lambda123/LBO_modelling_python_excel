{
 "cells": [
  {
   "cell_type": "code",
   "execution_count": 44,
   "metadata": {},
   "outputs": [],
   "source": [
    "# Import modules\n",
    "import numpy_financial as npf\n",
    "import numpy as np\n",
    "import pandas as pd\n",
    "import matplotlib.pyplot as plt"
   ]
  },
  {
   "cell_type": "markdown",
   "metadata": {},
   "source": [
    "**Case Study 1: https://www.wallstreetprep.com/knowledge/dcf-model-training-6-steps-building-dcf-model-excel/**"
   ]
  },
  {
   "cell_type": "code",
   "execution_count": 45,
   "metadata": {},
   "outputs": [
    {
     "data": {
      "image/png": "[encoded data removed]",
      "text/plain": [
       "<IPython.core.display.Image object>"
      ]
     },
     "execution_count": 45,
     "metadata": {
      "image/png": {
       "height": 400,
       "width": 800
      }
     },
     "output_type": "execute_result"
    }
   ],
   "source": [
    "from IPython.display import Image\n",
    "Image(filename='/Users/faye.pasvouri/ml-projects/LBO_modelling_python_excel/dcf.png',width=800, height=400)"
   ]
  },
  {
   "cell_type": "code",
   "execution_count": 46,
   "metadata": {},
   "outputs": [
    {
     "data": {
      "text/plain": [
       "249099.73001719947"
      ]
     },
     "execution_count": 46,
     "metadata": {},
     "output_type": "execute_result"
    }
   ],
   "source": [
    "# Assume you have this cash flow \n",
    "cash_flow = np.array([46089,48598,51219,53959,56826,59827])\n",
    "# and a discount rate of 3%\n",
    "rate = 0.10\n",
    "\n",
    "# To get the net present value:\n",
    "npf.npv(rate=rate,values=cash_flow)"
   ]
  },
  {
   "cell_type": "markdown",
   "metadata": {},
   "source": [
    "**Calculating Unlevered Free Cash Flow (FCF)**"
   ]
  },
  {
   "cell_type": "code",
   "execution_count": 47,
   "metadata": {},
   "outputs": [
    {
     "data": {
      "text/html": [
       "<div>\n",
       "<style scoped>\n",
       "    .dataframe tbody tr th:only-of-type {\n",
       "        vertical-align: middle;\n",
       "    }\n",
       "\n",
       "    .dataframe tbody tr th {\n",
       "        vertical-align: top;\n",
       "    }\n",
       "\n",
       "    .dataframe thead th {\n",
       "        text-align: right;\n",
       "    }\n",
       "</style>\n",
       "<table border=\"1\" class=\"dataframe\">\n",
       "  <thead>\n",
       "    <tr style=\"text-align: right;\">\n",
       "      <th></th>\n",
       "      <th>2022</th>\n",
       "    </tr>\n",
       "  </thead>\n",
       "  <tbody>\n",
       "    <tr>\n",
       "      <th>Capital expenditures</th>\n",
       "      <td>9836.00</td>\n",
       "    </tr>\n",
       "    <tr>\n",
       "      <th>D&amp;A</th>\n",
       "      <td>7124.00</td>\n",
       "    </tr>\n",
       "    <tr>\n",
       "      <th>EBITDA</th>\n",
       "      <td>74467.00</td>\n",
       "    </tr>\n",
       "    <tr>\n",
       "      <th>NWC</th>\n",
       "      <td>1032.00</td>\n",
       "    </tr>\n",
       "    <tr>\n",
       "      <th>Tax rate</th>\n",
       "      <td>0.26</td>\n",
       "    </tr>\n",
       "  </tbody>\n",
       "</table>\n",
       "</div>"
      ],
      "text/plain": [
       "                          2022\n",
       "Capital expenditures   9836.00\n",
       "D&A                    7124.00\n",
       "EBITDA                74467.00\n",
       "NWC                    1032.00\n",
       "Tax rate                  0.26"
      ]
     },
     "execution_count": 47,
     "metadata": {},
     "output_type": "execute_result"
    }
   ],
   "source": [
    "dcf_data = {2022:{'EBITDA':74467,'Tax rate': 0.26, 'D&A': 7124, 'NWC':1032, 'Capital expenditures': 9836}}\n",
    "pd.DataFrame(dcf_data)"
   ]
  },
  {
   "cell_type": "code",
   "execution_count": 48,
   "metadata": {},
   "outputs": [
    {
     "data": {
      "text/html": [
       "<div>\n",
       "<style scoped>\n",
       "    .dataframe tbody tr th:only-of-type {\n",
       "        vertical-align: middle;\n",
       "    }\n",
       "\n",
       "    .dataframe tbody tr th {\n",
       "        vertical-align: top;\n",
       "    }\n",
       "\n",
       "    .dataframe thead th {\n",
       "        text-align: right;\n",
       "    }\n",
       "</style>\n",
       "<table border=\"1\" class=\"dataframe\">\n",
       "  <thead>\n",
       "    <tr style=\"text-align: right;\">\n",
       "      <th></th>\n",
       "      <th>2022</th>\n",
       "      <th>2023</th>\n",
       "      <th>2024</th>\n",
       "      <th>2025</th>\n",
       "      <th>2026</th>\n",
       "      <th>2027</th>\n",
       "    </tr>\n",
       "  </thead>\n",
       "  <tbody>\n",
       "    <tr>\n",
       "      <th>EBITDA</th>\n",
       "      <td>74467.00</td>\n",
       "      <td>78190.35</td>\n",
       "      <td>82099.8675</td>\n",
       "      <td>86204.860875</td>\n",
       "      <td>90515.103919</td>\n",
       "      <td>95040.859115</td>\n",
       "    </tr>\n",
       "    <tr>\n",
       "      <th>Tax rate</th>\n",
       "      <td>0.26</td>\n",
       "      <td>0.26</td>\n",
       "      <td>0.2600</td>\n",
       "      <td>0.260000</td>\n",
       "      <td>0.260000</td>\n",
       "      <td>0.260000</td>\n",
       "    </tr>\n",
       "    <tr>\n",
       "      <th>D&amp;A</th>\n",
       "      <td>7124.00</td>\n",
       "      <td>7480.20</td>\n",
       "      <td>7854.2100</td>\n",
       "      <td>8246.920500</td>\n",
       "      <td>8659.266525</td>\n",
       "      <td>9092.229851</td>\n",
       "    </tr>\n",
       "    <tr>\n",
       "      <th>NWC</th>\n",
       "      <td>1032.00</td>\n",
       "      <td>928.80</td>\n",
       "      <td>835.9200</td>\n",
       "      <td>752.328000</td>\n",
       "      <td>677.095200</td>\n",
       "      <td>609.385680</td>\n",
       "    </tr>\n",
       "    <tr>\n",
       "      <th>Capital expenditures</th>\n",
       "      <td>9836.00</td>\n",
       "      <td>10278.62</td>\n",
       "      <td>10741.1579</td>\n",
       "      <td>11224.510005</td>\n",
       "      <td>11729.612956</td>\n",
       "      <td>12257.445539</td>\n",
       "    </tr>\n",
       "  </tbody>\n",
       "</table>\n",
       "</div>"
      ],
      "text/plain": [
       "                          2022      2023        2024          2025  \\\n",
       "EBITDA                74467.00  78190.35  82099.8675  86204.860875   \n",
       "Tax rate                  0.26      0.26      0.2600      0.260000   \n",
       "D&A                    7124.00   7480.20   7854.2100   8246.920500   \n",
       "NWC                    1032.00    928.80    835.9200    752.328000   \n",
       "Capital expenditures   9836.00  10278.62  10741.1579  11224.510005   \n",
       "\n",
       "                              2026          2027  \n",
       "EBITDA                90515.103919  95040.859115  \n",
       "Tax rate                  0.260000      0.260000  \n",
       "D&A                    8659.266525   9092.229851  \n",
       "NWC                     677.095200    609.385680  \n",
       "Capital expenditures  11729.612956  12257.445539  "
      ]
     },
     "execution_count": 48,
     "metadata": {},
     "output_type": "execute_result"
    }
   ],
   "source": [
    "for year in range(2023,2028):\n",
    "    prev_data = dcf_data[year-1]\n",
    "    dcf_data[year] = {'EBITDA':prev_data['EBITDA']*1.05,\n",
    "                                    'Tax rate': prev_data['Tax rate'],\n",
    "                                    'D&A': prev_data['D&A']*1.05,\n",
    "                                    'NWC': prev_data['NWC']*0.9,\n",
    "                                    'Capital expenditures': prev_data['Capital expenditures']*1.045}\n",
    "dcf_df = pd.DataFrame(dcf_data).T\n",
    "dcf_df.T"
   ]
  },
  {
   "cell_type": "markdown",
   "metadata": {},
   "source": [
    "**Calculating UFCF**"
   ]
  },
  {
   "cell_type": "code",
   "execution_count": 49,
   "metadata": {},
   "outputs": [
    {
     "data": {
      "text/html": [
       "<div>\n",
       "<style scoped>\n",
       "    .dataframe tbody tr th:only-of-type {\n",
       "        vertical-align: middle;\n",
       "    }\n",
       "\n",
       "    .dataframe tbody tr th {\n",
       "        vertical-align: top;\n",
       "    }\n",
       "\n",
       "    .dataframe thead th {\n",
       "        text-align: right;\n",
       "    }\n",
       "</style>\n",
       "<table border=\"1\" class=\"dataframe\">\n",
       "  <thead>\n",
       "    <tr style=\"text-align: right;\">\n",
       "      <th></th>\n",
       "      <th>2022</th>\n",
       "      <th>2023</th>\n",
       "      <th>2024</th>\n",
       "      <th>2025</th>\n",
       "      <th>2026</th>\n",
       "      <th>2027</th>\n",
       "    </tr>\n",
       "  </thead>\n",
       "  <tbody>\n",
       "    <tr>\n",
       "      <th>EBITDA</th>\n",
       "      <td>74467.00</td>\n",
       "      <td>78190.350</td>\n",
       "      <td>82099.86750</td>\n",
       "      <td>86204.860875</td>\n",
       "      <td>90515.103919</td>\n",
       "      <td>95040.859115</td>\n",
       "    </tr>\n",
       "    <tr>\n",
       "      <th>Tax rate</th>\n",
       "      <td>0.26</td>\n",
       "      <td>0.260</td>\n",
       "      <td>0.26000</td>\n",
       "      <td>0.260000</td>\n",
       "      <td>0.260000</td>\n",
       "      <td>0.260000</td>\n",
       "    </tr>\n",
       "    <tr>\n",
       "      <th>D&amp;A</th>\n",
       "      <td>7124.00</td>\n",
       "      <td>7480.200</td>\n",
       "      <td>7854.21000</td>\n",
       "      <td>8246.920500</td>\n",
       "      <td>8659.266525</td>\n",
       "      <td>9092.229851</td>\n",
       "    </tr>\n",
       "    <tr>\n",
       "      <th>NWC</th>\n",
       "      <td>1032.00</td>\n",
       "      <td>928.800</td>\n",
       "      <td>835.92000</td>\n",
       "      <td>752.328000</td>\n",
       "      <td>677.095200</td>\n",
       "      <td>609.385680</td>\n",
       "    </tr>\n",
       "    <tr>\n",
       "      <th>Capital expenditures</th>\n",
       "      <td>9836.00</td>\n",
       "      <td>10278.620</td>\n",
       "      <td>10741.15790</td>\n",
       "      <td>11224.510005</td>\n",
       "      <td>11729.612956</td>\n",
       "      <td>12257.445539</td>\n",
       "    </tr>\n",
       "    <tr>\n",
       "      <th>EBIT</th>\n",
       "      <td>67343.00</td>\n",
       "      <td>70710.150</td>\n",
       "      <td>74245.65750</td>\n",
       "      <td>77957.940375</td>\n",
       "      <td>81855.837394</td>\n",
       "      <td>85948.629263</td>\n",
       "    </tr>\n",
       "    <tr>\n",
       "      <th>EBIT(1-t)</th>\n",
       "      <td>49833.82</td>\n",
       "      <td>52325.511</td>\n",
       "      <td>54941.78655</td>\n",
       "      <td>57688.875878</td>\n",
       "      <td>60573.319671</td>\n",
       "      <td>63601.985655</td>\n",
       "    </tr>\n",
       "    <tr>\n",
       "      <th>UFCF</th>\n",
       "      <td>67825.82</td>\n",
       "      <td>71013.131</td>\n",
       "      <td>74373.07445</td>\n",
       "      <td>77912.634383</td>\n",
       "      <td>81639.294352</td>\n",
       "      <td>85561.046725</td>\n",
       "    </tr>\n",
       "  </tbody>\n",
       "</table>\n",
       "</div>"
      ],
      "text/plain": [
       "                          2022       2023         2024          2025  \\\n",
       "EBITDA                74467.00  78190.350  82099.86750  86204.860875   \n",
       "Tax rate                  0.26      0.260      0.26000      0.260000   \n",
       "D&A                    7124.00   7480.200   7854.21000   8246.920500   \n",
       "NWC                    1032.00    928.800    835.92000    752.328000   \n",
       "Capital expenditures   9836.00  10278.620  10741.15790  11224.510005   \n",
       "EBIT                  67343.00  70710.150  74245.65750  77957.940375   \n",
       "EBIT(1-t)             49833.82  52325.511  54941.78655  57688.875878   \n",
       "UFCF                  67825.82  71013.131  74373.07445  77912.634383   \n",
       "\n",
       "                              2026          2027  \n",
       "EBITDA                90515.103919  95040.859115  \n",
       "Tax rate                  0.260000      0.260000  \n",
       "D&A                    8659.266525   9092.229851  \n",
       "NWC                     677.095200    609.385680  \n",
       "Capital expenditures  11729.612956  12257.445539  \n",
       "EBIT                  81855.837394  85948.629263  \n",
       "EBIT(1-t)             60573.319671  63601.985655  \n",
       "UFCF                  81639.294352  85561.046725  "
      ]
     },
     "execution_count": 49,
     "metadata": {},
     "output_type": "execute_result"
    }
   ],
   "source": [
    "dcf_df['EBIT'] = dcf_df.apply(lambda x: x['EBITDA']-x['D&A'],axis=1)\n",
    "dcf_df['EBIT(1-t)'] = dcf_df.apply(lambda x: x['EBIT']*(1-x['Tax rate']),axis=1)\n",
    "dcf_df['UFCF'] = dcf_df.apply(lambda x: sum(x[['EBIT(1-t)','D&A','NWC','Capital expenditures']]),axis=1)\n",
    "dcf_df.T"
   ]
  },
  {
   "cell_type": "code",
   "execution_count": 50,
   "metadata": {},
   "outputs": [
    {
     "name": "stdout",
     "output_type": "stream",
     "text": [
      "Sum of present values 293447.07285627816\n"
     ]
    }
   ],
   "source": [
    "discount_rate = 0.10\n",
    "dcf_df['PV of UFCF'] = dcf_df.apply(lambda x: x['UFCF']/(1+discount_rate)**(x.name-2022),axis=1)\n",
    "PV = dcf_df.loc[range(2023,2028)]['PV of UFCF'].sum()\n",
    "print(\"Sum of present values\",PV)"
   ]
  },
  {
   "cell_type": "code",
   "execution_count": 51,
   "metadata": {},
   "outputs": [],
   "source": [
    "import pandas as pd\n",
    "from openpyxl.utils.dataframe import dataframe_to_rows\n",
    "from openpyxl import load_workbook\n",
    "wb = load_workbook('/Users/faye.pasvouri/ml-projects/LBO_modelling_python_excel/data/lbo_modelling_empty_template.xlsx')  \n",
    "                     \n",
    "df = pd.read_excel('/Users/faye.pasvouri/ml-projects/LBO_modelling_python_excel/data/lbo_modelling_empty_template.xlsx')  \n",
    "ws = wb.active\n",
    "dcf_df.iloc[0, 0] = 74467\n",
    "rows = dataframe_to_rows(dcf_df, index=True)\n",
    "for r_idx, row in enumerate(rows, 1):\n",
    "    for c_idx, value in enumerate(row, 1):\n",
    "        ws.cell(row=r_idx, column=c_idx, value=value)\n",
    "wb.save('/Users/faye.pasvouri/ml-projects/LBO_modelling_python_excel/data/finalised_lbo_modelling.xlsx')\n"
   ]
  },
  {
   "cell_type": "markdown",
   "metadata": {},
   "source": [
    "**Terminal Value**"
   ]
  },
  {
   "cell_type": "code",
   "execution_count": 52,
   "metadata": {},
   "outputs": [
    {
     "name": "stdout",
     "output_type": "stream",
     "text": [
      "Terminal Value 1483058.1432324648\n",
      "PV of Terminal Value 920862.4244695557\n",
      "Enterprise Value 1214309.497325834\n"
     ]
    }
   ],
   "source": [
    "growth_rate = 0.04\n",
    "gterminal_value = dcf_df.loc[2027]['UFCF']*(1+growth_rate)/(discount_rate-growth_rate)\n",
    "gpv_terminal_value = gterminal_value/(1+discount_rate)**(2027-2022)\n",
    "print(\"Terminal Value\", gterminal_value)\n",
    "print(\"PV of Terminal Value\", gpv_terminal_value)\n",
    "print(\"Enterprise Value\", PV+gpv_terminal_value)"
   ]
  },
  {
   "cell_type": "code",
   "execution_count": 53,
   "metadata": {},
   "outputs": [
    {
     "name": "stdout",
     "output_type": "stream",
     "text": [
      "Terminal Value 855367.7320321876\n",
      "PV of Terminal Value 531116.0638755347\n",
      "Enterprise Value 824563.1367318128\n"
     ]
    }
   ],
   "source": [
    "ebitda_multiple = 9\n",
    "eterminal_value = dcf_df.loc[2027]['EBITDA']*ebitda_multiple\n",
    "epv_terminal_value = eterminal_value/(1+discount_rate)**(2027-2022)\n",
    "print(\"Terminal Value\", eterminal_value)\n",
    "print(\"PV of Terminal Value\", epv_terminal_value)\n",
    "print(\"Enterprise Value\", PV+epv_terminal_value)"
   ]
  },
  {
   "cell_type": "code",
   "execution_count": 54,
   "metadata": {},
   "outputs": [
    {
     "data": {
      "text/html": [
       "<div>\n",
       "<style scoped>\n",
       "    .dataframe tbody tr th:only-of-type {\n",
       "        vertical-align: middle;\n",
       "    }\n",
       "\n",
       "    .dataframe tbody tr th {\n",
       "        vertical-align: top;\n",
       "    }\n",
       "\n",
       "    .dataframe thead th {\n",
       "        text-align: right;\n",
       "    }\n",
       "</style>\n",
       "<table border=\"1\" class=\"dataframe\">\n",
       "  <thead>\n",
       "    <tr style=\"text-align: right;\">\n",
       "      <th></th>\n",
       "      <th>2022</th>\n",
       "      <th>2023</th>\n",
       "      <th>2024</th>\n",
       "      <th>2025</th>\n",
       "      <th>2026</th>\n",
       "      <th>2027</th>\n",
       "    </tr>\n",
       "  </thead>\n",
       "  <tbody>\n",
       "    <tr>\n",
       "      <th>EBITDA</th>\n",
       "      <td>74467.00</td>\n",
       "      <td>78190.350000</td>\n",
       "      <td>82099.867500</td>\n",
       "      <td>86204.860875</td>\n",
       "      <td>90515.103919</td>\n",
       "      <td>95040.859115</td>\n",
       "    </tr>\n",
       "    <tr>\n",
       "      <th>Tax rate</th>\n",
       "      <td>0.26</td>\n",
       "      <td>0.260000</td>\n",
       "      <td>0.260000</td>\n",
       "      <td>0.260000</td>\n",
       "      <td>0.260000</td>\n",
       "      <td>0.260000</td>\n",
       "    </tr>\n",
       "    <tr>\n",
       "      <th>D&amp;A</th>\n",
       "      <td>7124.00</td>\n",
       "      <td>7480.200000</td>\n",
       "      <td>7854.210000</td>\n",
       "      <td>8246.920500</td>\n",
       "      <td>8659.266525</td>\n",
       "      <td>9092.229851</td>\n",
       "    </tr>\n",
       "    <tr>\n",
       "      <th>NWC</th>\n",
       "      <td>1032.00</td>\n",
       "      <td>928.800000</td>\n",
       "      <td>835.920000</td>\n",
       "      <td>752.328000</td>\n",
       "      <td>677.095200</td>\n",
       "      <td>609.385680</td>\n",
       "    </tr>\n",
       "    <tr>\n",
       "      <th>Capital expenditures</th>\n",
       "      <td>9836.00</td>\n",
       "      <td>10278.620000</td>\n",
       "      <td>10741.157900</td>\n",
       "      <td>11224.510005</td>\n",
       "      <td>11729.612956</td>\n",
       "      <td>12257.445539</td>\n",
       "    </tr>\n",
       "    <tr>\n",
       "      <th>EBIT</th>\n",
       "      <td>67343.00</td>\n",
       "      <td>70710.150000</td>\n",
       "      <td>74245.657500</td>\n",
       "      <td>77957.940375</td>\n",
       "      <td>81855.837394</td>\n",
       "      <td>85948.629263</td>\n",
       "    </tr>\n",
       "    <tr>\n",
       "      <th>EBIT(1-t)</th>\n",
       "      <td>49833.82</td>\n",
       "      <td>52325.511000</td>\n",
       "      <td>54941.786550</td>\n",
       "      <td>57688.875878</td>\n",
       "      <td>60573.319671</td>\n",
       "      <td>63601.985655</td>\n",
       "    </tr>\n",
       "    <tr>\n",
       "      <th>UFCF</th>\n",
       "      <td>67825.82</td>\n",
       "      <td>71013.131000</td>\n",
       "      <td>74373.074450</td>\n",
       "      <td>77912.634383</td>\n",
       "      <td>81639.294352</td>\n",
       "      <td>85561.046725</td>\n",
       "    </tr>\n",
       "    <tr>\n",
       "      <th>PV of UFCF</th>\n",
       "      <td>67825.82</td>\n",
       "      <td>64557.391818</td>\n",
       "      <td>61465.350785</td>\n",
       "      <td>58536.915389</td>\n",
       "      <td>55760.736529</td>\n",
       "      <td>53126.678335</td>\n",
       "    </tr>\n",
       "  </tbody>\n",
       "</table>\n",
       "</div>"
      ],
      "text/plain": [
       "                          2022          2023          2024          2025  \\\n",
       "EBITDA                74467.00  78190.350000  82099.867500  86204.860875   \n",
       "Tax rate                  0.26      0.260000      0.260000      0.260000   \n",
       "D&A                    7124.00   7480.200000   7854.210000   8246.920500   \n",
       "NWC                    1032.00    928.800000    835.920000    752.328000   \n",
       "Capital expenditures   9836.00  10278.620000  10741.157900  11224.510005   \n",
       "EBIT                  67343.00  70710.150000  74245.657500  77957.940375   \n",
       "EBIT(1-t)             49833.82  52325.511000  54941.786550  57688.875878   \n",
       "UFCF                  67825.82  71013.131000  74373.074450  77912.634383   \n",
       "PV of UFCF            67825.82  64557.391818  61465.350785  58536.915389   \n",
       "\n",
       "                              2026          2027  \n",
       "EBITDA                90515.103919  95040.859115  \n",
       "Tax rate                  0.260000      0.260000  \n",
       "D&A                    8659.266525   9092.229851  \n",
       "NWC                     677.095200    609.385680  \n",
       "Capital expenditures  11729.612956  12257.445539  \n",
       "EBIT                  81855.837394  85948.629263  \n",
       "EBIT(1-t)             60573.319671  63601.985655  \n",
       "UFCF                  81639.294352  85561.046725  \n",
       "PV of UFCF            55760.736529  53126.678335  "
      ]
     },
     "execution_count": 54,
     "metadata": {},
     "output_type": "execute_result"
    }
   ],
   "source": [
    "dcf_df.T"
   ]
  }
 ],
 "metadata": {
  "interpreter": {
   "hash": "131794ed2fea1726aab55cd51fd4a6806a3b6d88a90f3b416ad55abec1f3bc94"
  },
  "kernelspec": {
   "display_name": "Python 3.8.9 ('ml-playground')",
   "language": "python",
   "name": "python3"
  },
  "language_info": {
   "codemirror_mode": {
    "name": "ipython",
    "version": 3
   },
   "file_extension": ".py",
   "mimetype": "text/x-python",
   "name": "python",
   "nbconvert_exporter": "python",
   "pygments_lexer": "ipython3",
   "version": "3.8.9"
  },
  "orig_nbformat": 4
 },
 "nbformat": 4,
 "nbformat_minor": 2
}
